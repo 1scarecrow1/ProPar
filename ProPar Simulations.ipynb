{
 "cells": [
  {
   "cell_type": "code",
   "execution_count": 2,
   "id": "a180c9c1",
   "metadata": {},
   "outputs": [],
   "source": [
    "import numpy as np\n",
    "import pandas as pd\n",
    "import math\n",
    "import random\n",
    "import time\n",
    "import matplotlib as mpl\n",
    "import matplotlib.pyplot as plt\n",
    "from numpy.random import seed\n",
    "from numpy.random import normal\n",
    "from numpy.random import multivariate_normal"
   ]
  },
  {
   "cell_type": "markdown",
   "id": "5695e451",
   "metadata": {},
   "source": [
    "# DGP\n",
    "\n",
    "Basic form"
   ]
  },
  {
   "cell_type": "markdown",
   "id": "0e44ecb6",
   "metadata": {},
   "source": [
    "Time varying process to generate parameters\n",
    "\n",
    "$$vec(A_t) - \\mu = \\rho (vec(A_{t - 1}) - \\mu ) + \\eta_t$$\n",
    "\n",
    "$$ vec(A_0) = \\mu$$\n",
    "\n",
    "$$\\eta_t \\sim \\mathcal{N}(0, \\Sigma_{\\eta_t})$$\n",
    "\n",
    "$$ 0 < \\rho < 1$$"
   ]
  },
  {
   "cell_type": "code",
   "execution_count": 3,
   "id": "ce26af0d",
   "metadata": {},
   "outputs": [],
   "source": [
    "#specify initial parameters\n",
    "mu = np.array([[0.4], [0], [0], [0.4]])\n",
    "rho = 0.5\n",
    "mean = [0, 0, 0, 0]\n",
    "cov = [[1, 0.2, 0.2, 0.2], [0.2, 1, 0.2, 0.2], [0.2, 0.2, 1, 0.2], [0.2, 0.2, 0.2, 1]]\n",
    "eta = np.random.multivariate_normal(mean, cov)"
   ]
  },
  {
   "cell_type": "code",
   "execution_count": 9,
   "id": "69f84836",
   "metadata": {},
   "outputs": [],
   "source": [
    "#generate time varying parameters in vec form\n",
    "\n",
    "def vecTVP(t):\n",
    "    if t == 0:\n",
    "        return mu\n",
    "    else:\n",
    "        phi = rho*(vecTVP(t - 1) - mu) + eta.reshape(4,1)\n",
    "        return phi "
   ]
  },
  {
   "cell_type": "code",
   "execution_count": 10,
   "id": "55f58ab4",
   "metadata": {},
   "outputs": [],
   "source": [
    "#TVP in matrix form\n",
    "Mu = 0.4*np.identity(2)\n",
    "\n",
    "def matrixTVP(t):\n",
    "    if t == 0:\n",
    "        return Mu\n",
    "    else:\n",
    "        phi = rho*(matrixTVP(t - 1) - Mu) + eta.reshape((2,2))\n",
    "        return phi"
   ]
  },
  {
   "cell_type": "markdown",
   "id": "ce03ec5c",
   "metadata": {},
   "source": [
    "Generating time series observations\n",
    "\n",
    "$$y_t = A_t y_{t-1} + \\epsilon_t$$\n",
    "\n",
    "$$\\epsilon_t \\sim \\mathcal{N}(0, \\Sigma_{\\epsilon_t})$$\n",
    "\n",
    "$$y_0 = [0, 0]'$$"
   ]
  },
  {
   "cell_type": "code",
   "execution_count": 11,
   "id": "24bb4ce5",
   "metadata": {},
   "outputs": [],
   "source": [
    "#generate observations\n",
    "\n",
    "meaneps = [0,0]\n",
    "sigma = [[1, 0.2], [0.2, 1]]\n",
    "epsilon = np.random.multivariate_normal(meaneps, sigma)\n",
    "\n",
    "def y(t):\n",
    "    if t == 0:\n",
    "        return np.zeros((2, 1))\n",
    "    else:\n",
    "        y_t = matrixTVP(t) @ y(t - 1) + epsilon.reshape(2,1)\n",
    "        return y_t"
   ]
  },
  {
   "cell_type": "code",
   "execution_count": 12,
   "id": "3c90764d",
   "metadata": {},
   "outputs": [
    {
     "data": {
      "text/plain": [
       "array([[-1.08416843],\n",
       "       [-0.9728627 ]])"
      ]
     },
     "execution_count": 12,
     "metadata": {},
     "output_type": "execute_result"
    }
   ],
   "source": [
    "y(1)"
   ]
  },
  {
   "cell_type": "code",
   "execution_count": 13,
   "id": "866bfe50",
   "metadata": {},
   "outputs": [
    {
     "data": {
      "text/plain": [
       "array([[-0.57591634],\n",
       "       [ 1.6340659 ]])"
      ]
     },
     "execution_count": 13,
     "metadata": {},
     "output_type": "execute_result"
    }
   ],
   "source": [
    "y(2)"
   ]
  },
  {
   "cell_type": "code",
   "execution_count": 14,
   "id": "4a0616f7",
   "metadata": {},
   "outputs": [
    {
     "data": {
      "text/plain": [
       "array([[ 0.57130061],\n",
       "       [-9.03874362]])"
      ]
     },
     "execution_count": 14,
     "metadata": {},
     "output_type": "execute_result"
    }
   ],
   "source": [
    "y(3)"
   ]
  },
  {
   "cell_type": "code",
   "execution_count": 15,
   "id": "12422417",
   "metadata": {},
   "outputs": [
    {
     "data": {
      "text/plain": [
       "array([[  38.39940121],\n",
       "       [-231.79307866]])"
      ]
     },
     "execution_count": 15,
     "metadata": {},
     "output_type": "execute_result"
    }
   ],
   "source": [
    "y(5)"
   ]
  },
  {
   "cell_type": "code",
   "execution_count": 16,
   "id": "ebc2de55",
   "metadata": {},
   "outputs": [
    {
     "data": {
      "text/plain": [
       "array([[-183073.07843553],\n",
       "       [1077294.40315204]])"
      ]
     },
     "execution_count": 16,
     "metadata": {},
     "output_type": "execute_result"
    }
   ],
   "source": [
    "y(10)"
   ]
  },
  {
   "cell_type": "code",
   "execution_count": 17,
   "id": "d3291423",
   "metadata": {},
   "outputs": [
    {
     "data": {
      "text/plain": [
       "array([[-4.23196589e+12],\n",
       "       [ 2.49029981e+13]])"
      ]
     },
     "execution_count": 17,
     "metadata": {},
     "output_type": "execute_result"
    }
   ],
   "source": [
    "y(20)"
   ]
  },
  {
   "cell_type": "code",
   "execution_count": 18,
   "id": "d6001cee",
   "metadata": {},
   "outputs": [
    {
     "data": {
      "text/plain": [
       "array([[-5.24394343e+34],\n",
       "       [ 3.08579787e+35]])"
      ]
     },
     "execution_count": 18,
     "metadata": {},
     "output_type": "execute_result"
    }
   ],
   "source": [
    "y(50)"
   ]
  },
  {
   "cell_type": "code",
   "execution_count": null,
   "id": "a52b2a21",
   "metadata": {},
   "outputs": [],
   "source": []
  },
  {
   "cell_type": "code",
   "execution_count": 19,
   "id": "8245f455",
   "metadata": {},
   "outputs": [],
   "source": [
    "#plot generated time series\n",
    "x = []\n",
    "y1 = []\n",
    "y2 = []\n",
    "\n",
    "for t in range(10):\n",
    "    x.append(t)\n",
    "    y1.append(y(t)[0])\n",
    "    y2.append(y(t)[1])"
   ]
  },
  {
   "cell_type": "code",
   "execution_count": 20,
   "id": "29abcb93",
   "metadata": {},
   "outputs": [
    {
     "data": {
      "text/plain": [
       "array([-6181.81799797])"
      ]
     },
     "execution_count": 20,
     "metadata": {},
     "output_type": "execute_result"
    }
   ],
   "source": [
    "min(y1)"
   ]
  },
  {
   "cell_type": "code",
   "execution_count": 21,
   "id": "33550e7d",
   "metadata": {},
   "outputs": [
    {
     "data": {
      "text/plain": [
       "array([33622.35283244])"
      ]
     },
     "execution_count": 21,
     "metadata": {},
     "output_type": "execute_result"
    }
   ],
   "source": [
    "max(y1)"
   ]
  },
  {
   "cell_type": "code",
   "execution_count": 22,
   "id": "83b83d76",
   "metadata": {},
   "outputs": [
    {
     "data": {
      "text/plain": [
       "array([-197858.06179649])"
      ]
     },
     "execution_count": 22,
     "metadata": {},
     "output_type": "execute_result"
    }
   ],
   "source": [
    "min(y2)"
   ]
  },
  {
   "cell_type": "code",
   "execution_count": 23,
   "id": "eb1f6ddc",
   "metadata": {},
   "outputs": [
    {
     "data": {
      "text/plain": [
       "array([36376.91364033])"
      ]
     },
     "execution_count": 23,
     "metadata": {},
     "output_type": "execute_result"
    }
   ],
   "source": [
    "max(y2)"
   ]
  },
  {
   "cell_type": "code",
   "execution_count": 24,
   "id": "3c1a9ed3",
   "metadata": {},
   "outputs": [
    {
     "data": {
      "image/png": "[encoded data removed]",
      "text/plain": [
       "<Figure size 432x288 with 1 Axes>"
      ]
     },
     "metadata": {
      "needs_background": "light"
     },
     "output_type": "display_data"
    }
   ],
   "source": [
    "#series y1\n",
    "\n",
    "fig1, ax1 = plt.subplots()\n",
    "ax1.plot(x, y1, marker = 'o')\n",
    "ax1.set_ylim([-10000, 15000])\n",
    "ax1.set_xlim([0, 10])\n",
    "ax1.set_xlabel(\"Time\")\n",
    "ax1.set_ylabel(\"Y1\")\n",
    "ax1.set_title(\"Series Y1\")\n",
    "plt.show()"
   ]
  },
  {
   "cell_type": "code",
   "execution_count": 25,
   "id": "e0319849",
   "metadata": {},
   "outputs": [
    {
     "data": {
      "image/png": "[encoded data removed]",
      "text/plain": [
       "<Figure size 432x288 with 1 Axes>"
      ]
     },
     "metadata": {
      "needs_background": "light"
     },
     "output_type": "display_data"
    }
   ],
   "source": [
    "#series y2\n",
    "\n",
    "fig2, ax2 = plt.subplots()\n",
    "ax2.plot(x, y2, marker = 'o', color = 'red')\n",
    "ax2.set_ylim([-10000, 15000])\n",
    "ax2.set_xlim([0, 10])\n",
    "ax2.set_xlabel(\"Time\")\n",
    "ax2.set_ylabel(\"Y2\")\n",
    "ax2.set_title(\"Series Y2\")\n",
    "plt.show()"
   ]
  },
  {
   "cell_type": "markdown",
   "id": "edda3a0a",
   "metadata": {},
   "source": [
    "# ProPar update\n",
    "\n",
    "$$ vec(A_{t|t}') = [X_t'\\Sigma^{-1}X_t + P_t]^{-1} [P_t' vec (A_{t||t-1}') + X_t' \\Sigma ^{-1} y_t] $$\n",
    "\n",
    "Where $$X_t = I_k \\otimes x_t'$$\n",
    "\n",
    "\n",
    "In this case $$x_t = y_{t-1}$$.\n"
   ]
  },
  {
   "cell_type": "code",
   "execution_count": 26,
   "id": "20577d65",
   "metadata": {},
   "outputs": [],
   "source": [
    "P = 2*np.identity(4) #penalty matrix as multiple of identity matrix"
   ]
  },
  {
   "cell_type": "code",
   "execution_count": 27,
   "id": "3ac4f889",
   "metadata": {},
   "outputs": [],
   "source": [
    "def updateMu(t):\n",
    "    if t == 0:\n",
    "        return np.reshape(Mu, (4,1), 'C')\n",
    "    else:\n",
    "        X = np.kron(np.identity(2), np.transpose(y(t-1)))\n",
    "        vecApred = np.random.standard_normal((4,1)) #prediction normal\n",
    "        vecAupd = np.linalg.inv(np.transpose(X) @ np.linalg.inv(sigma) @ X + P) @ (np.transpose(P) @ vecApred \n",
    "                                                                            + np.transpose(X) @ np.linalg.inv(sigma) @ y(t))\n",
    "        return vecAupd"
   ]
  },
  {
   "cell_type": "code",
   "execution_count": 28,
   "id": "284a1f64",
   "metadata": {},
   "outputs": [
    {
     "data": {
      "text/plain": [
       "array([[ 0.52360078],\n",
       "       [-1.18538522],\n",
       "       [-0.60210207],\n",
       "       [ 1.38017128]])"
      ]
     },
     "execution_count": 28,
     "metadata": {},
     "output_type": "execute_result"
    }
   ],
   "source": [
    "updateMu(1)"
   ]
  },
  {
   "cell_type": "code",
   "execution_count": 29,
   "id": "59870216",
   "metadata": {},
   "outputs": [
    {
     "data": {
      "text/plain": [
       "array([[ 1.94556666],\n",
       "       [-1.93772578],\n",
       "       [-1.30086584],\n",
       "       [ 0.23769624]])"
      ]
     },
     "execution_count": 29,
     "metadata": {},
     "output_type": "execute_result"
    }
   ],
   "source": [
    "updateMu(2)"
   ]
  },
  {
   "cell_type": "code",
   "execution_count": 30,
   "id": "d9dbac09",
   "metadata": {},
   "outputs": [
    {
     "data": {
      "text/plain": [
       "array([[ 0.27478121],\n",
       "       [-0.73440342],\n",
       "       [ 0.46640655],\n",
       "       [-0.8295781 ]])"
      ]
     },
     "execution_count": 30,
     "metadata": {},
     "output_type": "execute_result"
    }
   ],
   "source": [
    "updateMu(1) - np.reshape(Mu, (4,1), 'C')"
   ]
  },
  {
   "cell_type": "code",
   "execution_count": 78,
   "id": "6b010193",
   "metadata": {},
   "outputs": [],
   "source": [
    "#plot generated time series\n",
    "trueparams1 = []\n",
    "updates1 = []\n",
    "trueparams2 = []\n",
    "updates2 = []\n",
    "trueparams3 = []\n",
    "updates3 = []\n",
    "trueparams4 = []\n",
    "updates4 = []\n",
    "X = []\n",
    "\n",
    "for t in range(50):\n",
    "    trueparams1.append(vecTVP(t)[0])\n",
    "    updates1.append(updateMu(t)[0])\n",
    "    \n",
    "    trueparams2.append(vecTVP(t)[1])\n",
    "    updates2.append(updateMu(t)[1])\n",
    "    \n",
    "    trueparams3.append(vecTVP(t)[2])\n",
    "    updates3.append(updateMu(t)[2])\n",
    "    \n",
    "    trueparams4.append(vecTVP(t)[3])\n",
    "    updates4.append(updateMu(t)[3])\n",
    "    \n",
    "    X.append(t)"
   ]
  },
  {
   "cell_type": "code",
   "execution_count": 81,
   "id": "3ee33439",
   "metadata": {},
   "outputs": [
    {
     "data": {
      "text/plain": [
       "[array([0.4]),\n",
       " array([-0.48961405]),\n",
       " array([-0.93442107]),\n",
       " array([-1.15682459]),\n",
       " array([-1.26802634]),\n",
       " array([-1.32362722]),\n",
       " array([-1.35142766]),\n",
       " array([-1.36532788]),\n",
       " array([-1.37227799]),\n",
       " array([-1.37575304]),\n",
       " array([-1.37749057]),\n",
       " array([-1.37835934]),\n",
       " array([-1.37879372]),\n",
       " array([-1.37901091]),\n",
       " array([-1.3791195]),\n",
       " array([-1.3791738]),\n",
       " array([-1.37920095]),\n",
       " array([-1.37921453]),\n",
       " array([-1.37922131]),\n",
       " array([-1.37922471]),\n",
       " array([-1.3792264]),\n",
       " array([-1.37922725]),\n",
       " array([-1.37922768]),\n",
       " array([-1.37922789]),\n",
       " array([-1.37922799]),\n",
       " array([-1.37922805]),\n",
       " array([-1.37922807]),\n",
       " array([-1.37922809]),\n",
       " array([-1.37922809]),\n",
       " array([-1.3792281]),\n",
       " array([-1.3792281]),\n",
       " array([-1.3792281]),\n",
       " array([-1.3792281]),\n",
       " array([-1.3792281]),\n",
       " array([-1.3792281]),\n",
       " array([-1.3792281]),\n",
       " array([-1.3792281]),\n",
       " array([-1.3792281]),\n",
       " array([-1.3792281]),\n",
       " array([-1.3792281]),\n",
       " array([-1.3792281]),\n",
       " array([-1.3792281]),\n",
       " array([-1.3792281]),\n",
       " array([-1.3792281]),\n",
       " array([-1.3792281]),\n",
       " array([-1.3792281]),\n",
       " array([-1.3792281]),\n",
       " array([-1.3792281]),\n",
       " array([-1.3792281]),\n",
       " array([-1.3792281])]"
      ]
     },
     "execution_count": 81,
     "metadata": {},
     "output_type": "execute_result"
    }
   ],
   "source": [
    "trueparams1"
   ]
  },
  {
   "cell_type": "code",
   "execution_count": 82,
   "id": "6788fa4d",
   "metadata": {},
   "outputs": [
    {
     "data": {
      "text/plain": [
       "[array([0.]),\n",
       " array([0.34593284]),\n",
       " array([0.51889926]),\n",
       " array([0.60538247]),\n",
       " array([0.64862408]),\n",
       " array([0.67024488]),\n",
       " array([0.68105528]),\n",
       " array([0.68646048]),\n",
       " array([0.68916308]),\n",
       " array([0.69051438]),\n",
       " array([0.69119003]),\n",
       " array([0.69152786]),\n",
       " array([0.69169677]),\n",
       " array([0.69178123]),\n",
       " array([0.69182345]),\n",
       " array([0.69184457]),\n",
       " array([0.69185513]),\n",
       " array([0.6918604]),\n",
       " array([0.69186304]),\n",
       " array([0.69186436]),\n",
       " array([0.69186502]),\n",
       " array([0.69186535]),\n",
       " array([0.69186552]),\n",
       " array([0.6918656]),\n",
       " array([0.69186564]),\n",
       " array([0.69186566]),\n",
       " array([0.69186567]),\n",
       " array([0.69186568]),\n",
       " array([0.69186568]),\n",
       " array([0.69186568]),\n",
       " array([0.69186568]),\n",
       " array([0.69186568]),\n",
       " array([0.69186568]),\n",
       " array([0.69186568]),\n",
       " array([0.69186568]),\n",
       " array([0.69186568]),\n",
       " array([0.69186568]),\n",
       " array([0.69186568]),\n",
       " array([0.69186568]),\n",
       " array([0.69186568]),\n",
       " array([0.69186568]),\n",
       " array([0.69186568]),\n",
       " array([0.69186568]),\n",
       " array([0.69186568]),\n",
       " array([0.69186568]),\n",
       " array([0.69186568]),\n",
       " array([0.69186568]),\n",
       " array([0.69186568]),\n",
       " array([0.69186568]),\n",
       " array([0.69186568])]"
      ]
     },
     "execution_count": 82,
     "metadata": {},
     "output_type": "execute_result"
    }
   ],
   "source": [
    "trueparams2"
   ]
  },
  {
   "cell_type": "code",
   "execution_count": 79,
   "id": "971f3949",
   "metadata": {},
   "outputs": [
    {
     "data": {
      "image/png": "[encoded data removed]",
      "text/plain": [
       "<Figure size 432x288 with 1 Axes>"
      ]
     },
     "metadata": {
      "needs_background": "light"
     },
     "output_type": "display_data"
    }
   ],
   "source": [
    "#Param a1\n",
    "plt.plot(X, trueparams1, label = 'True parameter a1', color = 'orange')\n",
    "plt.plot(X, updates1, label = 'Update a1', color = 'blue')\n",
    "plt.legend()\n",
    "plt.show()"
   ]
  },
  {
   "cell_type": "code",
   "execution_count": 80,
   "id": "a057c413",
   "metadata": {},
   "outputs": [
    {
     "data": {
      "image/png": "[encoded data removed]",
      "text/plain": [
       "<Figure size 432x288 with 1 Axes>"
      ]
     },
     "metadata": {
      "needs_background": "light"
     },
     "output_type": "display_data"
    }
   ],
   "source": [
    "#Param a2\n",
    "plt.plot(X, trueparams2, label = 'True parameter a2', color = 'orange')\n",
    "plt.plot(X, updates2, label = 'Update a2', color = 'blue')\n",
    "plt.legend()\n",
    "plt.show()"
   ]
  },
  {
   "cell_type": "code",
   "execution_count": 56,
   "id": "8ac2d01b",
   "metadata": {},
   "outputs": [],
   "source": [
    "def yProPar(t):\n",
    "    if t == 0:\n",
    "        return np.zeros((2, 1))\n",
    "    else:\n",
    "        y_t = np.reshape(updateMu(t), (2,2), 'F') @ yProPar(t - 1) + epsilon.reshape(2,1)\n",
    "        return y_t"
   ]
  },
  {
   "cell_type": "code",
   "execution_count": 69,
   "id": "5d619ac3",
   "metadata": {},
   "outputs": [],
   "source": [
    "MSE1 = []\n",
    "MSE2 = []\n",
    "\n",
    "for t in range(20):\n",
    "    MSE1.append(y(t)[0] - yProPar(t)[0])\n",
    "    MSE2.append(y(t)[1] - yProPar(t)[1])"
   ]
  },
  {
   "cell_type": "code",
   "execution_count": 71,
   "id": "6010d4ef",
   "metadata": {},
   "outputs": [
    {
     "data": {
      "text/plain": [
       "7.791842478932435e+80"
      ]
     },
     "execution_count": 71,
     "metadata": {},
     "output_type": "execute_result"
    }
   ],
   "source": [
    "np.mean(MSE1)"
   ]
  },
  {
   "cell_type": "code",
   "execution_count": 72,
   "id": "fd7a51f9",
   "metadata": {},
   "outputs": [
    {
     "data": {
      "text/plain": [
       "2.8452687179392373e+79"
      ]
     },
     "execution_count": 72,
     "metadata": {},
     "output_type": "execute_result"
    }
   ],
   "source": [
    "np.mean(MSE2)"
   ]
  },
  {
   "cell_type": "code",
   "execution_count": 76,
   "id": "d3e72aea",
   "metadata": {},
   "outputs": [
    {
     "data": {
      "text/plain": [
       "[array([[0.],\n",
       "        [0.]]),\n",
       " array([[-1.08416843],\n",
       "        [-0.9728627 ]]),\n",
       " array([[-0.57591634],\n",
       "        [ 1.6340659 ]]),\n",
       " array([[ 0.57130061],\n",
       "        [-9.03874362]]),\n",
       " array([[-7.67133939],\n",
       "        [43.75949277]]),\n",
       " array([[  38.39940121],\n",
       "        [-231.79307866]]),\n",
       " array([[-210.84208183],\n",
       "        [1239.90369432]]),\n",
       " array([[ 1137.92929214],\n",
       "        [-6702.5913383 ]]),\n",
       " array([[-6181.81799797],\n",
       "        [36376.91364033]]),\n",
       " array([[  33622.35283244],\n",
       "        [-197858.06179649]]),\n",
       " array([[-183073.07843553],\n",
       "        [1077294.40315204]]),\n",
       " array([[  997318.49353708],\n",
       "        [-5868728.06458881]]),\n",
       " array([[-5434477.80615568],\n",
       "        [31979180.52106991]]),\n",
       " array([[ 2.96167998e+07],\n",
       "        [-1.74280032e+08]]),\n",
       " array([[-1.61416122e+08],\n",
       "        [ 9.49852974e+08]]),\n",
       " array([[ 8.79771506e+08],\n",
       "        [-5.17701436e+09]]),\n",
       " array([[-4.79512562e+09],\n",
       "        [ 2.82169108e+10]]),\n",
       " array([[ 2.61356703e+10],\n",
       "        [-1.53795320e+11]]),\n",
       " array([[-1.42452171e+11],\n",
       "        [ 8.38259627e+11]]),\n",
       " array([[ 7.76435517e+11],\n",
       "        [-4.56893385e+12]]),\n",
       " array([[-4.23196589e+12],\n",
       "        [ 2.49029981e+13]]),\n",
       " array([[ 2.30663642e+13],\n",
       "        [-1.35733992e+14]]),\n",
       " array([[-1.25723437e+14],\n",
       "        [ 7.39819409e+14]]),\n",
       " array([[ 6.85256870e+14],\n",
       "        [-4.03239321e+15]]),\n",
       " array([[-3.73499977e+15],\n",
       "        [ 2.19786016e+16]]),\n",
       " array([[ 2.03576562e+16],\n",
       "        [-1.19794603e+17]]),\n",
       " array([[-1.10959624e+17],\n",
       "        [ 6.52941773e+17]]),\n",
       " array([[ 6.04786633e+17],\n",
       "        [-3.55886620e+18]]),\n",
       " array([[-3.29639610e+18],\n",
       "        [ 1.93976388e+19]]),\n",
       " array([[ 1.79670427e+19],\n",
       "        [-1.05727041e+20]]),\n",
       " array([[-9.79295614e+19],\n",
       "        [ 5.76266384e+20]]),\n",
       " array([[ 5.33766138e+20],\n",
       "        [-3.14094618e+21]]),\n",
       " array([[-2.90929813e+21],\n",
       "        [ 1.71197613e+22]]),\n",
       " array([[ 1.58571611e+22],\n",
       "        [-9.33114448e+22]]),\n",
       " array([[-8.64296286e+22],\n",
       "        [ 5.08595043e+23]]),\n",
       " array([[ 4.71085629e+23],\n",
       "        [-2.77210281e+24]]),\n",
       " array([[-2.56765734e+24],\n",
       "        [ 1.51093765e+25]]),\n",
       " array([[ 1.39950442e+25],\n",
       "        [-8.23538206e+25]]),\n",
       " array([[-7.62801406e+25],\n",
       "        [ 4.48870394e+26]]),\n",
       " array([[ 4.15765735e+26],\n",
       "        [-2.44657296e+27]]),\n",
       " array([[-2.26613565e+27],\n",
       "        [ 1.33350725e+28]]),\n",
       " array([[ 1.23515970e+28],\n",
       "        [-7.26829573e+28]]),\n",
       " array([[-6.73225136e+28],\n",
       "        [ 3.96159249e+29]]),\n",
       " array([[ 3.66942091e+29],\n",
       "        [-2.15927029e+30]]),\n",
       " array([[-2.00002186e+30],\n",
       "        [ 1.17691262e+31]]),\n",
       " array([[ 1.09011408e+31],\n",
       "        [-6.41477499e+31]]),\n",
       " array([[-5.94167866e+31],\n",
       "        [ 3.49638008e+32]]),\n",
       " array([[ 3.23851841e+32],\n",
       "        [-1.90570576e+33]]),\n",
       " array([[-1.76515798e+33],\n",
       "        [ 1.03870699e+34]]),\n",
       " array([[ 9.62101272e+33],\n",
       "        [-5.66148376e+34]])]"
      ]
     },
     "execution_count": 76,
     "metadata": {},
     "output_type": "execute_result"
    }
   ],
   "source": [
    "ts = []\n",
    "for t in range(50):\n",
    "    ts.append(y(t))\n",
    "    \n",
    "ts"
   ]
  },
  {
   "cell_type": "code",
   "execution_count": 77,
   "id": "1d5edc5b",
   "metadata": {},
   "outputs": [
    {
     "ename": "ValueError",
     "evalue": "Number of factors must be less than the number of endogenous variables.",
     "output_type": "error",
     "traceback": [
      "\u001b[1;31m---------------------------------------------------------------------------\u001b[0m",
      "\u001b[1;31mValueError\u001b[0m                                Traceback (most recent call last)",
      "\u001b[1;32m~\\AppData\\Local\\Temp/ipykernel_32204/2560054148.py\u001b[0m in \u001b[0;36m<module>\u001b[1;34m\u001b[0m\n\u001b[0;32m      4\u001b[0m \u001b[1;33m\u001b[0m\u001b[0m\n\u001b[0;32m      5\u001b[0m \u001b[1;31m# create a dynamic conditional score model\u001b[0m\u001b[1;33m\u001b[0m\u001b[1;33m\u001b[0m\u001b[0m\n\u001b[1;32m----> 6\u001b[1;33m \u001b[0mmodel\u001b[0m \u001b[1;33m=\u001b[0m \u001b[0msmt\u001b[0m\u001b[1;33m.\u001b[0m\u001b[0mDynamicFactor\u001b[0m\u001b[1;33m(\u001b[0m\u001b[0mts\u001b[0m\u001b[1;33m,\u001b[0m \u001b[1;36m2\u001b[0m\u001b[1;33m,\u001b[0m \u001b[0mfactor_order\u001b[0m\u001b[1;33m=\u001b[0m\u001b[1;36m1\u001b[0m\u001b[1;33m,\u001b[0m \u001b[0merror_cov_type\u001b[0m\u001b[1;33m=\u001b[0m\u001b[1;34m'diagonal'\u001b[0m\u001b[1;33m)\u001b[0m\u001b[1;33m\u001b[0m\u001b[1;33m\u001b[0m\u001b[0m\n\u001b[0m\u001b[0;32m      7\u001b[0m \u001b[1;33m\u001b[0m\u001b[0m\n\u001b[0;32m      8\u001b[0m \u001b[1;31m# fit the model to the data\u001b[0m\u001b[1;33m\u001b[0m\u001b[1;33m\u001b[0m\u001b[0m\n",
      "\u001b[1;32m~\\OneDrive\\Music\\lib\\site-packages\\statsmodels\\tsa\\statespace\\dynamic_factor.py\u001b[0m in \u001b[0;36m__init__\u001b[1;34m(self, endog, k_factors, factor_order, exog, error_order, error_var, error_cov_type, enforce_stationarity, **kwargs)\u001b[0m\n\u001b[0;32m    193\u001b[0m         \u001b[1;31m# Test for too many factors\u001b[0m\u001b[1;33m\u001b[0m\u001b[1;33m\u001b[0m\u001b[0m\n\u001b[0;32m    194\u001b[0m         \u001b[1;32mif\u001b[0m \u001b[0mself\u001b[0m\u001b[1;33m.\u001b[0m\u001b[0mk_factors\u001b[0m \u001b[1;33m>=\u001b[0m \u001b[0mk_endog\u001b[0m\u001b[1;33m:\u001b[0m\u001b[1;33m\u001b[0m\u001b[1;33m\u001b[0m\u001b[0m\n\u001b[1;32m--> 195\u001b[1;33m             raise ValueError('Number of factors must be less than the number'\n\u001b[0m\u001b[0;32m    196\u001b[0m                              ' of endogenous variables.')\n\u001b[0;32m    197\u001b[0m \u001b[1;33m\u001b[0m\u001b[0m\n",
      "\u001b[1;31mValueError\u001b[0m: Number of factors must be less than the number of endogenous variables."
     ]
    }
   ],
   "source": [
    "#GAS update\n",
    "\n",
    "import statsmodels.tsa.api as smt\n",
    "\n",
    "# create a dynamic conditional score model\n",
    "model = smt.DynamicFactor(ts, 2, factor_order=1, error_cov_type='diagonal')\n",
    "\n",
    "# fit the model to the data\n",
    "results = model.fit(disp=True)\n",
    "\n",
    "# make predictions using the fitted model\n",
    "predictions = results.predict(start=len(ts), end=len(ts)+10)"
   ]
  },
  {
   "cell_type": "code",
   "execution_count": 73,
   "id": "1975e2a2",
   "metadata": {},
   "outputs": [
    {
     "ename": "ValueError",
     "evalue": "x contains one or more constant columns. Column(s) 0, 1 are constant. Adding a constant with trend='c' is not allowed.",
     "output_type": "error",
     "traceback": [
      "\u001b[1;31m---------------------------------------------------------------------------\u001b[0m",
      "\u001b[1;31mValueError\u001b[0m                                Traceback (most recent call last)",
      "\u001b[1;32m~\\AppData\\Local\\Temp/ipykernel_32204/3891799710.py\u001b[0m in \u001b[0;36m<module>\u001b[1;34m\u001b[0m\n\u001b[0;32m      7\u001b[0m \u001b[1;31m# fit the VAR model\u001b[0m\u001b[1;33m\u001b[0m\u001b[1;33m\u001b[0m\u001b[0m\n\u001b[0;32m      8\u001b[0m \u001b[0mmodel\u001b[0m \u001b[1;33m=\u001b[0m \u001b[0mVAR\u001b[0m\u001b[1;33m(\u001b[0m\u001b[0mts\u001b[0m\u001b[1;33m)\u001b[0m\u001b[1;33m\u001b[0m\u001b[1;33m\u001b[0m\u001b[0m\n\u001b[1;32m----> 9\u001b[1;33m \u001b[0mmodel_fit\u001b[0m \u001b[1;33m=\u001b[0m \u001b[0mmodel\u001b[0m\u001b[1;33m.\u001b[0m\u001b[0mfit\u001b[0m\u001b[1;33m(\u001b[0m\u001b[1;33m)\u001b[0m\u001b[1;33m\u001b[0m\u001b[1;33m\u001b[0m\u001b[0m\n\u001b[0m\u001b[0;32m     10\u001b[0m \u001b[1;33m\u001b[0m\u001b[0m\n\u001b[0;32m     11\u001b[0m \u001b[1;31m# make predictions\u001b[0m\u001b[1;33m\u001b[0m\u001b[1;33m\u001b[0m\u001b[0m\n",
      "\u001b[1;32m~\\OneDrive\\Music\\lib\\site-packages\\statsmodels\\tsa\\vector_ar\\var_model.py\u001b[0m in \u001b[0;36mfit\u001b[1;34m(self, maxlags, method, ic, trend, verbose)\u001b[0m\n\u001b[0;32m    649\u001b[0m         self.data.cov_names = pd.MultiIndex.from_product((self.data.xnames,\n\u001b[0;32m    650\u001b[0m                                                           self.data.ynames))\n\u001b[1;32m--> 651\u001b[1;33m         \u001b[1;32mreturn\u001b[0m \u001b[0mself\u001b[0m\u001b[1;33m.\u001b[0m\u001b[0m_estimate_var\u001b[0m\u001b[1;33m(\u001b[0m\u001b[0mlags\u001b[0m\u001b[1;33m,\u001b[0m \u001b[0mtrend\u001b[0m\u001b[1;33m=\u001b[0m\u001b[0mtrend\u001b[0m\u001b[1;33m)\u001b[0m\u001b[1;33m\u001b[0m\u001b[1;33m\u001b[0m\u001b[0m\n\u001b[0m\u001b[0;32m    652\u001b[0m \u001b[1;33m\u001b[0m\u001b[0m\n\u001b[0;32m    653\u001b[0m     \u001b[1;32mdef\u001b[0m \u001b[0m_estimate_var\u001b[0m\u001b[1;33m(\u001b[0m\u001b[0mself\u001b[0m\u001b[1;33m,\u001b[0m \u001b[0mlags\u001b[0m\u001b[1;33m,\u001b[0m \u001b[0moffset\u001b[0m\u001b[1;33m=\u001b[0m\u001b[1;36m0\u001b[0m\u001b[1;33m,\u001b[0m \u001b[0mtrend\u001b[0m\u001b[1;33m=\u001b[0m\u001b[1;34m'c'\u001b[0m\u001b[1;33m)\u001b[0m\u001b[1;33m:\u001b[0m\u001b[1;33m\u001b[0m\u001b[1;33m\u001b[0m\u001b[0m\n",
      "\u001b[1;32m~\\OneDrive\\Music\\lib\\site-packages\\statsmodels\\tsa\\vector_ar\\var_model.py\u001b[0m in \u001b[0;36m_estimate_var\u001b[1;34m(self, lags, offset, trend)\u001b[0m\n\u001b[0;32m    670\u001b[0m         \u001b[0mendog\u001b[0m \u001b[1;33m=\u001b[0m \u001b[0mself\u001b[0m\u001b[1;33m.\u001b[0m\u001b[0mendog\u001b[0m\u001b[1;33m[\u001b[0m\u001b[0moffset\u001b[0m\u001b[1;33m:\u001b[0m\u001b[1;33m]\u001b[0m\u001b[1;33m\u001b[0m\u001b[1;33m\u001b[0m\u001b[0m\n\u001b[0;32m    671\u001b[0m         \u001b[0mexog\u001b[0m \u001b[1;33m=\u001b[0m \u001b[1;32mNone\u001b[0m \u001b[1;32mif\u001b[0m \u001b[0mself\u001b[0m\u001b[1;33m.\u001b[0m\u001b[0mexog\u001b[0m \u001b[1;32mis\u001b[0m \u001b[1;32mNone\u001b[0m \u001b[1;32melse\u001b[0m \u001b[0mself\u001b[0m\u001b[1;33m.\u001b[0m\u001b[0mexog\u001b[0m\u001b[1;33m[\u001b[0m\u001b[0moffset\u001b[0m\u001b[1;33m:\u001b[0m\u001b[1;33m]\u001b[0m\u001b[1;33m\u001b[0m\u001b[1;33m\u001b[0m\u001b[0m\n\u001b[1;32m--> 672\u001b[1;33m         z = util.get_var_endog(endog, lags, trend=trend,\n\u001b[0m\u001b[0;32m    673\u001b[0m                                has_constant='raise')\n\u001b[0;32m    674\u001b[0m         \u001b[1;32mif\u001b[0m \u001b[0mexog\u001b[0m \u001b[1;32mis\u001b[0m \u001b[1;32mnot\u001b[0m \u001b[1;32mNone\u001b[0m\u001b[1;33m:\u001b[0m\u001b[1;33m\u001b[0m\u001b[1;33m\u001b[0m\u001b[0m\n",
      "\u001b[1;32m~\\OneDrive\\Music\\lib\\site-packages\\statsmodels\\tsa\\vector_ar\\util.py\u001b[0m in \u001b[0;36mget_var_endog\u001b[1;34m(y, lags, trend, has_constant)\u001b[0m\n\u001b[0;32m     33\u001b[0m     \u001b[1;31m# Add constant, trend, etc.\u001b[0m\u001b[1;33m\u001b[0m\u001b[1;33m\u001b[0m\u001b[0m\n\u001b[0;32m     34\u001b[0m     \u001b[1;32mif\u001b[0m \u001b[0mtrend\u001b[0m \u001b[1;33m!=\u001b[0m \u001b[1;34m'nc'\u001b[0m\u001b[1;33m:\u001b[0m\u001b[1;33m\u001b[0m\u001b[1;33m\u001b[0m\u001b[0m\n\u001b[1;32m---> 35\u001b[1;33m         Z = tsa.add_trend(Z, prepend=True, trend=trend,\n\u001b[0m\u001b[0;32m     36\u001b[0m                           has_constant=has_constant)\n\u001b[0;32m     37\u001b[0m \u001b[1;33m\u001b[0m\u001b[0m\n",
      "\u001b[1;32m~\\OneDrive\\Music\\lib\\site-packages\\statsmodels\\tsa\\tsatools.py\u001b[0m in \u001b[0;36madd_trend\u001b[1;34m(x, trend, prepend, has_constant)\u001b[0m\n\u001b[0;32m    131\u001b[0m                     \u001b[1;34mf\"{base_err} Adding a constant with trend='{trend}' is not allowed.\"\u001b[0m\u001b[1;33m\u001b[0m\u001b[1;33m\u001b[0m\u001b[0m\n\u001b[0;32m    132\u001b[0m                 )\n\u001b[1;32m--> 133\u001b[1;33m                 \u001b[1;32mraise\u001b[0m \u001b[0mValueError\u001b[0m\u001b[1;33m(\u001b[0m\u001b[0mmsg\u001b[0m\u001b[1;33m)\u001b[0m\u001b[1;33m\u001b[0m\u001b[1;33m\u001b[0m\u001b[0m\n\u001b[0m\u001b[0;32m    134\u001b[0m             \u001b[1;32melif\u001b[0m \u001b[0mhas_constant\u001b[0m \u001b[1;33m==\u001b[0m \u001b[1;34m'skip'\u001b[0m\u001b[1;33m:\u001b[0m\u001b[1;33m\u001b[0m\u001b[1;33m\u001b[0m\u001b[0m\n\u001b[0;32m    135\u001b[0m                 \u001b[0mcolumns\u001b[0m \u001b[1;33m=\u001b[0m \u001b[0mcolumns\u001b[0m\u001b[1;33m[\u001b[0m\u001b[1;36m1\u001b[0m\u001b[1;33m:\u001b[0m\u001b[1;33m]\u001b[0m\u001b[1;33m\u001b[0m\u001b[1;33m\u001b[0m\u001b[0m\n",
      "\u001b[1;31mValueError\u001b[0m: x contains one or more constant columns. Column(s) 0, 1 are constant. Adding a constant with trend='c' is not allowed."
     ]
    }
   ],
   "source": [
    "from statsmodels.tsa.vector_ar.var_model import VAR\n",
    "\n",
    "# fit the VAR model\n",
    "model = VAR(ts)\n",
    "model_fit = model.fit()\n",
    "\n",
    "# make predictions\n",
    "predictions = model_fit.forecast(model_fit.y, steps=10)"
   ]
  },
  {
   "cell_type": "code",
   "execution_count": null,
   "id": "9c3e51d4",
   "metadata": {},
   "outputs": [],
   "source": []
  }
 ],
 "metadata": {
  "kernelspec": {
   "display_name": "Python 3 (ipykernel)",
   "language": "python",
   "name": "python3"
  },
  "language_info": {
   "codemirror_mode": {
    "name": "ipython",
    "version": 3
   },
   "file_extension": ".py",
   "mimetype": "text/x-python",
   "name": "python",
   "nbconvert_exporter": "python",
   "pygments_lexer": "ipython3",
   "version": "3.9.7"
  }
 },
 "nbformat": 4,
 "nbformat_minor": 5
}
